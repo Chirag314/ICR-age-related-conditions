{
  "cells": [
    {
      "cell_type": "markdown",
      "metadata": {
        "id": "view-in-github",
        "colab_type": "text"
      },
      "source": [
        "<a href=\"https://colab.research.google.com/github/Chirag314/ICR-age-related-conditions/blob/main/ICR_Age_related_conditions.ipynb\" target=\"_parent\"><img src=\"https://colab.research.google.com/assets/colab-badge.svg\" alt=\"Open In Colab\"/></a>"
      ]
    },
    {
      "cell_type": "code",
      "execution_count": null,
      "id": "0cf38aae",
      "metadata": {
        "_cell_guid": "b1076dfc-b9ad-4769-8c92-a6c4dae69d19",
        "_uuid": "8f2839f25d086af736a60e9eeb907d3b93b6e0e5",
        "execution": {
          "iopub.execute_input": "2023-06-10T19:10:16.827876Z",
          "iopub.status.busy": "2023-06-10T19:10:16.827459Z",
          "iopub.status.idle": "2023-06-10T19:10:20.133180Z",
          "shell.execute_reply": "2023-06-10T19:10:20.132082Z"
        },
        "papermill": {
          "duration": 3.321247,
          "end_time": "2023-06-10T19:10:20.135686",
          "exception": false,
          "start_time": "2023-06-10T19:10:16.814439",
          "status": "completed"
        },
        "tags": [],
        "id": "0cf38aae"
      },
      "outputs": [],
      "source": [
        "import pandas as pd\n",
        "import numpy as np\n",
        "import xgboost as xgb\n",
        "import lightgbm as lgb\n",
        "#from catboost import Pool, CatBoostClassifier\n",
        "from sklearn.model_selection import StratifiedKFold\n",
        "from sklearn.metrics import f1_score\n",
        "from sklearn.impute import SimpleImputer\n",
        "from sklearn.preprocessing import StandardScaler\n",
        "\n",
        "from sklearn.linear_model import LogisticRegression, Lasso, ElasticNet\n",
        "from sklearn.ensemble import RandomForestClassifier, AdaBoostClassifier\n",
        "from sklearn.tree import DecisionTreeClassifier\n",
        "from sklearn.neural_network import MLPClassifier\n",
        "from sklearn.svm import SVC\n",
        "from sklearn.neighbors import KNeighborsClassifier\n",
        "from sklearn.discriminant_analysis import QuadraticDiscriminantAnalysis\n",
        "\n",
        "from datetime import date, datetime\n",
        "\n",
        "import warnings\n",
        "warnings.filterwarnings(\"ignore\")"
      ]
    },
    {
      "cell_type": "markdown",
      "source": [
        "Ref:--https://www.kaggle.com/general/74235\n",
        "\n",
        "How to copy kaggle datasets to colab"
      ],
      "metadata": {
        "id": "pnD9cnfRZjra"
      },
      "id": "pnD9cnfRZjra"
    },
    {
      "cell_type": "code",
      "source": [
        "!pip install -q kaggle"
      ],
      "metadata": {
        "id": "tLsdw3FRYmVW"
      },
      "id": "tLsdw3FRYmVW",
      "execution_count": null,
      "outputs": []
    },
    {
      "cell_type": "code",
      "source": [
        "from google.colab import files\n",
        "files.upload()"
      ],
      "metadata": {
        "id": "ZCCNw-94Y6Z4"
      },
      "id": "ZCCNw-94Y6Z4",
      "execution_count": null,
      "outputs": []
    },
    {
      "cell_type": "code",
      "source": [
        "!rm -r ~/.kaggle # Remove if dir exists\n",
        "!mkdir ~/.kaggle # make directory\n",
        "!cp kaggle.json ~/.kaggle # copy json file to dir."
      ],
      "metadata": {
        "id": "kwCgQ7zhZNez"
      },
      "id": "kwCgQ7zhZNez",
      "execution_count": null,
      "outputs": []
    },
    {
      "cell_type": "code",
      "source": [
        "!chmod 600 ~/.kaggle/kaggle.json #change the access mode"
      ],
      "metadata": {
        "id": "3P_tnBgKZWiq"
      },
      "id": "3P_tnBgKZWiq",
      "execution_count": null,
      "outputs": []
    },
    {
      "cell_type": "code",
      "source": [
        "!kaggle datasets list # list all datasets"
      ],
      "metadata": {
        "id": "hrpnNvEqZb1E"
      },
      "id": "hrpnNvEqZb1E",
      "execution_count": null,
      "outputs": []
    },
    {
      "cell_type": "code",
      "source": [
        "#download data\n",
        "! kaggle competitions download -c icr-identify-age-related-conditions"
      ],
      "metadata": {
        "id": "z7_Rw5JSf8PG"
      },
      "id": "z7_Rw5JSf8PG",
      "execution_count": null,
      "outputs": []
    },
    {
      "cell_type": "code",
      "source": [
        "!rm -r train\n",
        "! mkdir dataset\n",
        "!cp /content/icr-identify-age-related-conditions.zip /content/dataset/icr-identify-age-related-conditions.zip\n",
        "!rm /content/dataset/icr-identify-age-related-conditions.zip."
      ],
      "metadata": {
        "id": "igAk_v86cBwD"
      },
      "id": "igAk_v86cBwD",
      "execution_count": null,
      "outputs": []
    },
    {
      "cell_type": "code",
      "source": [
        "!unzip -q /content/dataset/icr-identify-age-related-conditions.zip -d /content/dataset/"
      ],
      "metadata": {
        "id": "ktJq0WQte0zk"
      },
      "id": "ktJq0WQte0zk",
      "execution_count": null,
      "outputs": []
    },
    {
      "cell_type": "code",
      "source": [
        "! unzip icr-identify-age-related-conditions dataset\\"
      ],
      "metadata": {
        "id": "euLE1OL0c3Kb"
      },
      "id": "euLE1OL0c3Kb",
      "execution_count": null,
      "outputs": []
    },
    {
      "cell_type": "markdown",
      "source": [
        "Iterative stratified K fold\n",
        "ref:https://www.kaggle.com/code/sambitmukherjee/multilabel-stratified-k-fold-creation"
      ],
      "metadata": {
        "id": "Oh4ghyOdeP4X"
      },
      "id": "Oh4ghyOdeP4X"
    },
    {
      "cell_type": "code",
      "source": [
        "!pip install iterative-stratification"
      ],
      "metadata": {
        "id": "7fw4ENmZgu3Q"
      },
      "id": "7fw4ENmZgu3Q",
      "execution_count": null,
      "outputs": []
    },
    {
      "cell_type": "code",
      "execution_count": null,
      "id": "53823c8f",
      "metadata": {
        "execution": {
          "iopub.execute_input": "2023-06-10T19:10:20.159365Z",
          "iopub.status.busy": "2023-06-10T19:10:20.159018Z",
          "iopub.status.idle": "2023-06-10T19:10:20.199305Z",
          "shell.execute_reply": "2023-06-10T19:10:20.198457Z"
        },
        "papermill": {
          "duration": 0.054478,
          "end_time": "2023-06-10T19:10:20.201386",
          "exception": false,
          "start_time": "2023-06-10T19:10:20.146908",
          "status": "completed"
        },
        "tags": [],
        "id": "53823c8f"
      },
      "outputs": [],
      "source": [
        "import sys\n",
        "#sys.path.append('../input/iterativestratification')\n",
        "import pandas as pd # data processing, CSV file I/O (e.g. pd.read_csv)\n",
        "from iterstrat.ml_stratifiers import MultilabelStratifiedKFold"
      ]
    },
    {
      "cell_type": "code",
      "execution_count": null,
      "id": "accc4085",
      "metadata": {
        "execution": {
          "iopub.execute_input": "2023-06-10T19:10:20.224769Z",
          "iopub.status.busy": "2023-06-10T19:10:20.223982Z",
          "iopub.status.idle": "2023-06-10T19:10:32.246652Z",
          "shell.execute_reply": "2023-06-10T19:10:32.245436Z"
        },
        "papermill": {
          "duration": 12.036857,
          "end_time": "2023-06-10T19:10:32.249194",
          "exception": false,
          "start_time": "2023-06-10T19:10:20.212337",
          "status": "completed"
        },
        "tags": [],
        "id": "accc4085"
      },
      "outputs": [],
      "source": [
        "!pip install tabpfn"
      ]
    },
    {
      "cell_type": "code",
      "execution_count": null,
      "id": "8734faf2",
      "metadata": {
        "execution": {
          "iopub.execute_input": "2023-06-10T19:10:32.274280Z",
          "iopub.status.busy": "2023-06-10T19:10:32.273917Z",
          "iopub.status.idle": "2023-06-10T19:10:35.900759Z",
          "shell.execute_reply": "2023-06-10T19:10:35.899370Z"
        },
        "papermill": {
          "duration": 3.6428,
          "end_time": "2023-06-10T19:10:35.903955",
          "exception": false,
          "start_time": "2023-06-10T19:10:32.261155",
          "status": "completed"
        },
        "tags": [],
        "id": "8734faf2"
      },
      "outputs": [],
      "source": [
        "!mkdir -p /opt/conda/lib/python3.10/site-packages/tabpfn/models_diff\n",
        "#!cp /kaggle/input/pip-packages-icr/pip-packages/prior_diff_real_checkpoint_n_0_epoch_100.cpkt /opt/conda/lib/python3.10/site-packages/tabpfn/models_diff/\n",
        "\n",
        "!cp /user/local/lib/python3.10/dist-packages/tabpfn/models_diff/prior_diff_real_checkpoint_n_0_epoch_100.cpkt /opt/conda/lib/python3.10/site-packages/tabpfn/models_diff/\n"
      ]
    },
    {
      "cell_type": "code",
      "execution_count": null,
      "id": "3aefc5eb",
      "metadata": {
        "execution": {
          "iopub.execute_input": "2023-06-10T19:10:35.938827Z",
          "iopub.status.busy": "2023-06-10T19:10:35.938273Z",
          "iopub.status.idle": "2023-06-10T19:10:39.047323Z",
          "shell.execute_reply": "2023-06-10T19:10:39.046340Z"
        },
        "papermill": {
          "duration": 3.128971,
          "end_time": "2023-06-10T19:10:39.049882",
          "exception": false,
          "start_time": "2023-06-10T19:10:35.920911",
          "status": "completed"
        },
        "tags": [],
        "id": "3aefc5eb"
      },
      "outputs": [],
      "source": [
        "from tabpfn import TabPFNClassifier"
      ]
    },
    {
      "cell_type": "code",
      "execution_count": null,
      "id": "bbf346b6",
      "metadata": {
        "execution": {
          "iopub.execute_input": "2023-06-10T19:10:39.075371Z",
          "iopub.status.busy": "2023-06-10T19:10:39.074134Z",
          "iopub.status.idle": "2023-06-10T19:10:39.196288Z",
          "shell.execute_reply": "2023-06-10T19:10:39.194586Z"
        },
        "papermill": {
          "duration": 0.138645,
          "end_time": "2023-06-10T19:10:39.200402",
          "exception": false,
          "start_time": "2023-06-10T19:10:39.061757",
          "status": "completed"
        },
        "tags": [],
        "id": "bbf346b6"
      },
      "outputs": [],
      "source": [
        "from sklearn.decomposition import PCA\n",
        "from sklearn.discriminant_analysis import LinearDiscriminantAnalysis as LDA\n",
        "from sklearn.manifold import TSNE\n",
        "from sklearn.cluster import FeatureAgglomeration\n",
        "from sklearn.decomposition import FastICA\n",
        "from sklearn.decomposition import NMF"
      ]
    },
    {
      "cell_type": "markdown",
      "id": "5a0b2cf5",
      "metadata": {
        "papermill": {
          "duration": 0.012399,
          "end_time": "2023-06-10T19:10:39.277899",
          "exception": false,
          "start_time": "2023-06-10T19:10:39.265500",
          "status": "completed"
        },
        "tags": [],
        "id": "5a0b2cf5"
      },
      "source": [
        "### PARAMS"
      ]
    },
    {
      "cell_type": "markdown",
      "id": "6f79b824",
      "metadata": {
        "papermill": {
          "duration": 0.011286,
          "end_time": "2023-06-10T19:10:39.301091",
          "exception": false,
          "start_time": "2023-06-10T19:10:39.289805",
          "status": "completed"
        },
        "tags": [],
        "id": "6f79b824"
      },
      "source": []
    },
    {
      "cell_type": "code",
      "execution_count": null,
      "id": "4021d989",
      "metadata": {
        "execution": {
          "iopub.execute_input": "2023-06-10T19:10:39.327661Z",
          "iopub.status.busy": "2023-06-10T19:10:39.325820Z",
          "iopub.status.idle": "2023-06-10T19:10:39.333923Z",
          "shell.execute_reply": "2023-06-10T19:10:39.333262Z"
        },
        "papermill": {
          "duration": 0.022742,
          "end_time": "2023-06-10T19:10:39.335858",
          "exception": false,
          "start_time": "2023-06-10T19:10:39.313116",
          "status": "completed"
        },
        "tags": [],
        "id": "4021d989"
      },
      "outputs": [],
      "source": [
        "PATH = '../content/dataset'\n",
        "NUMCOLS = ['AB', 'AF', 'AH', 'AM', 'AR', 'AX', 'AY', 'AZ',\n",
        "           'BC', 'BD', 'BN', 'BP', 'BQ', 'BR', 'BZ',\n",
        "           'CB', 'CC', 'CD', 'CF', 'CH', 'CL', 'CR', 'CS', 'CU', 'CW',\n",
        "           'DA', 'DE', 'DF', 'DH', 'DI', 'DL', 'DN', 'DU', 'DV', 'DY',\n",
        "           'EB', 'EE', 'EG', 'EH', 'EL', 'EP', 'EU',\n",
        "           'FC', 'FD', 'FE', 'FI', 'FL', 'FR', 'FS',\n",
        "           'GB', 'GE', 'GF', 'GH', 'GI', 'GL',\n",
        "           'Epsilon']\n",
        "CATCOLS = ['EJ']\n",
        "#\n",
        "NFOLDS = 20\n",
        "#\n",
        "CHECK = [(1,1.,0.), (2,1.,0.)]"
      ]
    },
    {
      "cell_type": "markdown",
      "id": "00d841a1",
      "metadata": {
        "papermill": {
          "duration": 0.011631,
          "end_time": "2023-06-10T19:10:39.358988",
          "exception": false,
          "start_time": "2023-06-10T19:10:39.347357",
          "status": "completed"
        },
        "tags": [],
        "id": "00d841a1"
      },
      "source": [
        "### FUNCTIONS"
      ]
    },
    {
      "cell_type": "code",
      "execution_count": null,
      "id": "a01ece52",
      "metadata": {
        "execution": {
          "iopub.execute_input": "2023-06-10T19:10:39.384570Z",
          "iopub.status.busy": "2023-06-10T19:10:39.383958Z",
          "iopub.status.idle": "2023-06-10T19:10:39.390760Z",
          "shell.execute_reply": "2023-06-10T19:10:39.389916Z"
        },
        "papermill": {
          "duration": 0.02207,
          "end_time": "2023-06-10T19:10:39.392811",
          "exception": false,
          "start_time": "2023-06-10T19:10:39.370741",
          "status": "completed"
        },
        "tags": [],
        "id": "a01ece52"
      },
      "outputs": [],
      "source": [
        "def competition_log_loss(y_true, y_pred):\n",
        "    # y_true: correct labels 0, 1\n",
        "    # y_pred: predicted probabilities of class=1\n",
        "    # Implements the Evaluation equation with w_0 = w_1 = 1.\n",
        "    # Calculate the number of observations for each class\n",
        "    N_0 = np.sum(1 - y_true)\n",
        "    N_1 = np.sum(y_true)\n",
        "    # Calculate the predicted probabilities for each class\n",
        "    p_1 = np.clip(y_pred, 1e-15, 1 - 1e-15)\n",
        "    p_0 = 1 - p_1\n",
        "    # Calculate the average log loss for each class\n",
        "    log_loss_0 = -np.sum((1 - y_true) * np.log(p_0)) / N_0\n",
        "    log_loss_1 = -np.sum(y_true * np.log(p_1)) / N_1\n",
        "    # return the (not further weighted) average of the averages\n",
        "    return (log_loss_0 + log_loss_1)/2\n",
        "#"
      ]
    },
    {
      "cell_type": "code",
      "execution_count": null,
      "id": "06857cc6",
      "metadata": {
        "execution": {
          "iopub.execute_input": "2023-06-10T19:10:39.417816Z",
          "iopub.status.busy": "2023-06-10T19:10:39.417521Z",
          "iopub.status.idle": "2023-06-10T19:10:39.424238Z",
          "shell.execute_reply": "2023-06-10T19:10:39.423235Z"
        },
        "papermill": {
          "duration": 0.02192,
          "end_time": "2023-06-10T19:10:39.426270",
          "exception": false,
          "start_time": "2023-06-10T19:10:39.404350",
          "status": "completed"
        },
        "tags": [],
        "id": "06857cc6"
      },
      "outputs": [],
      "source": [
        "def loss_weight(y_true):\n",
        "    nc = np.bincount(y_true)\n",
        "    w0, w1 = 1/(nc[0]/y_true.shape[0]), 1/(nc[1]/y_true.shape[0])\n",
        "    return w0, w1\n",
        "#=======\n",
        "def best_threshold(y_true, y_pred, metrics, n_breaks=101):\n",
        "    bt = None\n",
        "    bs = -1\n",
        "    proposals = np.linspace(0,1,n_breaks)\n",
        "    for proposal in proposals:\n",
        "        cur = metrics(y_true, (y_pred>proposal).astype(int))\n",
        "        if cur>bs:\n",
        "            bs = cur\n",
        "            bt = proposal\n",
        "        #\n",
        "    #\n",
        "    return bt, bs\n",
        "#======="
      ]
    },
    {
      "cell_type": "code",
      "execution_count": null,
      "id": "288e77d4",
      "metadata": {
        "execution": {
          "iopub.execute_input": "2023-06-10T19:10:39.450530Z",
          "iopub.status.busy": "2023-06-10T19:10:39.450249Z",
          "iopub.status.idle": "2023-06-10T19:10:39.465774Z",
          "shell.execute_reply": "2023-06-10T19:10:39.464908Z"
        },
        "papermill": {
          "duration": 0.030214,
          "end_time": "2023-06-10T19:10:39.467715",
          "exception": false,
          "start_time": "2023-06-10T19:10:39.437501",
          "status": "completed"
        },
        "tags": [],
        "id": "288e77d4"
      },
      "outputs": [],
      "source": [
        "def pp_prob(p):\n",
        "    c0 = p[:,0].sum()\n",
        "    c1 = p[:,1:].sum()\n",
        "    new_p = p * np.array([[1/(c0 if i==0 else c1) for i in range(p.shape[1])]])\n",
        "    new_p = new_p / np.sum(new_p,axis=1,keepdims=1)\n",
        "    return np.sum(new_p[:,1:],1,keepdims=False)\n",
        "#====================\n",
        "def train_skl(x, y, xe, folds, how='log'):\n",
        "    n_folds = len(folds)\n",
        "    oof = np.zeros((len(y), ))\n",
        "    preds = np.zeros((len(xe),))\n",
        "\n",
        "    print('='*30)\n",
        "    for idx in range(n_folds):\n",
        "        print(\"FOLD:\", idx)\n",
        "        tr_idx, val_idx = folds[idx]\n",
        "        xt, yt = x[tr_idx], y[tr_idx]\n",
        "        xv, yv = x[val_idx], y[val_idx]\n",
        "        #t_w0, t_w1 = loss_weight(yt)\n",
        "        #v_w0, v_w1 = loss_weight(yv)\n",
        "        #wt = pd.DataFrame(yt, columns=['0'])['0'].map({0:t_w0,1:t_w1}).values\n",
        "        #wv = pd.DataFrame(yv, column['0'])['0'].map({0:v_w0,1:v_w1}).values\n",
        "\n",
        "        t_w0, t_w1 = loss_weight((yt!=0).astype(int))\n",
        "        v_w0, v_w1 = loss_weight((yv!=0).astype(int))\n",
        "        wt = pd.DataFrame((yt!=0).astype(int), columns=['0'])['0'].map({0:t_w0,1:t_w1}).values\n",
        "        wv = pd.DataFrame((yv!=0).astype(int), columns=['0'])['0'].map({0:v_w0,1:v_w1}).values\n",
        "\n",
        "        if how == 'log':\n",
        "            model = LogisticRegression()\n",
        "        elif how == 'rf':\n",
        "            model = RandomForestClassifier(n_estimators=100, max_depth=4)\n",
        "        elif how == 'svc':\n",
        "            model = SVC(gamma='auto', probability=True, C=1.)\n",
        "        elif how == 'knn':\n",
        "            model = KNeighborsClassifier(n_neighbors=50)\n",
        "        elif how == 'xgb':\n",
        "            model = xgb.XGBClassifier(max_depth=3)\n",
        "        elif how =='lgb':\n",
        "            model = lgb.LGBMClassifier(max_depth=3)\n",
        "        elif how =='tabfpn':\n",
        "            model = TabPFNClassifier(N_ensemble_configurations=64,device='cuda:0')\n",
        "        elif how == 'mlp':\n",
        "            model = MLPClassifier(hidden_layer_sizes=(100,100,),\n",
        "                                  random_state=777, max_iter=300)\n",
        "        elif how == 'tree':\n",
        "            model = DecisionTreeClassifier(max_depth=5)\n",
        "        elif how == 'qda':\n",
        "            model = QuadraticDiscriminantAnalysis()\n",
        "        else:\n",
        "            model = AdaBoostClassifier( RandomForestClassifier(n_estimators=100, max_depth=4) )\n",
        "        #\n",
        "        model.fit(xt, yt)\n",
        "        \"\"\"\n",
        "        if how in ['svc','mlp','knn', 'qda', 'tabfpn']:\n",
        "            model.fit(xt, yt)\n",
        "        else:\n",
        "            model.fit(xt, yt, sample_weight=wt)\n",
        "        \"\"\"\n",
        "        #\n",
        "        oof[val_idx] =  pp_prob( model.predict_proba(xv) )\n",
        "        preds += pp_prob( model.predict_proba(xe) )/n_folds\n",
        "        #\n",
        "        print('='*30)\n",
        "    return oof, preds\n",
        "#===================\n"
      ]
    },
    {
      "cell_type": "markdown",
      "id": "a5cf0c22",
      "metadata": {
        "papermill": {
          "duration": 0.011105,
          "end_time": "2023-06-10T19:10:39.490089",
          "exception": false,
          "start_time": "2023-06-10T19:10:39.478984",
          "status": "completed"
        },
        "tags": [],
        "id": "a5cf0c22"
      },
      "source": [
        "### TRAINING"
      ]
    },
    {
      "cell_type": "code",
      "execution_count": null,
      "id": "d81afc8b",
      "metadata": {
        "execution": {
          "iopub.execute_input": "2023-06-10T19:10:39.514978Z",
          "iopub.status.busy": "2023-06-10T19:10:39.513560Z",
          "iopub.status.idle": "2023-06-10T19:10:39.519141Z",
          "shell.execute_reply": "2023-06-10T19:10:39.518278Z"
        },
        "papermill": {
          "duration": 0.019745,
          "end_time": "2023-06-10T19:10:39.521112",
          "exception": false,
          "start_time": "2023-06-10T19:10:39.501367",
          "status": "completed"
        },
        "tags": [],
        "id": "d81afc8b"
      },
      "outputs": [],
      "source": [
        "def preprocess(df):\n",
        "    df['EJ'] = df['EJ'].map({'A':0,'B':1})\n",
        "    df = df.rename(columns={'BD ': 'BD', 'CD ': 'CD', 'CW ': 'CW', 'FD ': 'FD'})\n",
        "    return df"
      ]
    },
    {
      "cell_type": "code",
      "execution_count": null,
      "id": "076d06bd",
      "metadata": {
        "execution": {
          "iopub.execute_input": "2023-06-10T19:10:39.545479Z",
          "iopub.status.busy": "2023-06-10T19:10:39.544706Z",
          "iopub.status.idle": "2023-06-10T19:10:39.637771Z",
          "shell.execute_reply": "2023-06-10T19:10:39.635719Z"
        },
        "papermill": {
          "duration": 0.109699,
          "end_time": "2023-06-10T19:10:39.642263",
          "exception": false,
          "start_time": "2023-06-10T19:10:39.532564",
          "status": "completed"
        },
        "tags": [],
        "id": "076d06bd"
      },
      "outputs": [],
      "source": [
        "tr = pd.read_csv(f'{PATH}/train.csv')\n",
        "te = pd.read_csv(f'{PATH}/test.csv')\n",
        "tr = preprocess(tr)\n",
        "te = preprocess(te)\n",
        "\n",
        "greeks = pd.read_csv(f'{PATH}/greeks.csv')\n",
        "greeks.loc[greeks.Epsilon != 'Unknown','Epsilon'] = greeks.loc[greeks.Epsilon != 'Unknown','Epsilon'].map(lambda x: datetime.strptime(x,'%m/%d/%Y').toordinal())\n",
        "greeks.loc[greeks.Epsilon == 'Unknown','Epsilon'] = np.nan\n",
        "greeks['Alpha'] = greeks['Alpha'].map({'A':0,'B':1,'D':2,'G':3})\n",
        "tr = tr.merge(greeks, on='Id')\n",
        "te['Epsilon'] = tr['Epsilon'].max() + 1\n",
        "##"
      ]
    },
    {
      "cell_type": "code",
      "execution_count": null,
      "id": "e55cd485",
      "metadata": {
        "execution": {
          "iopub.execute_input": "2023-06-10T19:10:39.686796Z",
          "iopub.status.busy": "2023-06-10T19:10:39.686352Z",
          "iopub.status.idle": "2023-06-10T19:10:39.728715Z",
          "shell.execute_reply": "2023-06-10T19:10:39.727472Z"
        },
        "papermill": {
          "duration": 0.071276,
          "end_time": "2023-06-10T19:10:39.730960",
          "exception": false,
          "start_time": "2023-06-10T19:10:39.659684",
          "status": "completed"
        },
        "tags": [],
        "id": "e55cd485"
      },
      "outputs": [],
      "source": [
        "tr.head()"
      ]
    },
    {
      "cell_type": "code",
      "execution_count": null,
      "id": "79b6c12e",
      "metadata": {
        "execution": {
          "iopub.execute_input": "2023-06-10T19:10:39.773124Z",
          "iopub.status.busy": "2023-06-10T19:10:39.772802Z",
          "iopub.status.idle": "2023-06-10T19:10:39.783663Z",
          "shell.execute_reply": "2023-06-10T19:10:39.782779Z"
        },
        "papermill": {
          "duration": 0.036451,
          "end_time": "2023-06-10T19:10:39.785752",
          "exception": false,
          "start_time": "2023-06-10T19:10:39.749301",
          "status": "completed"
        },
        "tags": [],
        "id": "79b6c12e"
      },
      "outputs": [],
      "source": [
        "X = tr[NUMCOLS + CATCOLS].values\n",
        "y = tr['Class'].values\n",
        "ym = tr['Alpha'].values\n",
        "Xe = te[NUMCOLS + CATCOLS].values\n",
        "Z = greeks.iloc[:,1:-1].values"
      ]
    },
    {
      "cell_type": "code",
      "execution_count": null,
      "id": "89e906c3",
      "metadata": {
        "execution": {
          "iopub.execute_input": "2023-06-10T19:10:39.810387Z",
          "iopub.status.busy": "2023-06-10T19:10:39.810097Z",
          "iopub.status.idle": "2023-06-10T19:10:39.824629Z",
          "shell.execute_reply": "2023-06-10T19:10:39.823791Z"
        },
        "papermill": {
          "duration": 0.029255,
          "end_time": "2023-06-10T19:10:39.826875",
          "exception": false,
          "start_time": "2023-06-10T19:10:39.797620",
          "status": "completed"
        },
        "tags": [],
        "id": "89e906c3"
      },
      "outputs": [],
      "source": [
        "imp = SimpleImputer(missing_values=np.nan, strategy='median')\n",
        "X = imp.fit_transform(X)\n",
        "Xe = imp.transform(Xe)"
      ]
    },
    {
      "cell_type": "code",
      "execution_count": null,
      "id": "5750ffc5",
      "metadata": {
        "execution": {
          "iopub.execute_input": "2023-06-10T19:10:39.851282Z",
          "iopub.status.busy": "2023-06-10T19:10:39.850973Z",
          "iopub.status.idle": "2023-06-10T19:10:39.856996Z",
          "shell.execute_reply": "2023-06-10T19:10:39.856151Z"
        },
        "papermill": {
          "duration": 0.020352,
          "end_time": "2023-06-10T19:10:39.859017",
          "exception": false,
          "start_time": "2023-06-10T19:10:39.838665",
          "status": "completed"
        },
        "tags": [],
        "id": "5750ffc5"
      },
      "outputs": [],
      "source": [
        "sc = StandardScaler()\n",
        "X = sc.fit_transform(X)\n",
        "Xe = sc.transform(Xe)"
      ]
    },
    {
      "cell_type": "code",
      "execution_count": null,
      "id": "393b8b5e",
      "metadata": {
        "execution": {
          "iopub.execute_input": "2023-06-10T19:10:39.883051Z",
          "iopub.status.busy": "2023-06-10T19:10:39.882787Z",
          "iopub.status.idle": "2023-06-10T19:10:39.889817Z",
          "shell.execute_reply": "2023-06-10T19:10:39.888892Z"
        },
        "papermill": {
          "duration": 0.021266,
          "end_time": "2023-06-10T19:10:39.891815",
          "exception": false,
          "start_time": "2023-06-10T19:10:39.870549",
          "status": "completed"
        },
        "tags": [],
        "id": "393b8b5e"
      },
      "outputs": [],
      "source": [
        "X.mean(), Xe.mean(),"
      ]
    },
    {
      "cell_type": "code",
      "execution_count": null,
      "id": "67643fec",
      "metadata": {
        "execution": {
          "iopub.execute_input": "2023-06-10T19:10:39.939803Z",
          "iopub.status.busy": "2023-06-10T19:10:39.939547Z",
          "iopub.status.idle": "2023-06-10T19:10:39.967589Z",
          "shell.execute_reply": "2023-06-10T19:10:39.966501Z"
        },
        "papermill": {
          "duration": 0.044271,
          "end_time": "2023-06-10T19:10:39.971122",
          "exception": false,
          "start_time": "2023-06-10T19:10:39.926851",
          "status": "completed"
        },
        "tags": [],
        "id": "67643fec"
      },
      "outputs": [],
      "source": [
        "pca = PCA(n_components=10, svd_solver='full', whiten=True)\n",
        "X_pca = pca.fit_transform(X)\n",
        "Xe_pca = pca.transform(Xe)"
      ]
    },
    {
      "cell_type": "code",
      "execution_count": null,
      "id": "3d3bdc6e",
      "metadata": {
        "execution": {
          "iopub.execute_input": "2023-06-10T19:10:40.023546Z",
          "iopub.status.busy": "2023-06-10T19:10:40.022961Z",
          "iopub.status.idle": "2023-06-10T19:10:40.057036Z",
          "shell.execute_reply": "2023-06-10T19:10:40.056036Z"
        },
        "papermill": {
          "duration": 0.063391,
          "end_time": "2023-06-10T19:10:40.060270",
          "exception": false,
          "start_time": "2023-06-10T19:10:39.996879",
          "status": "completed"
        },
        "tags": [],
        "id": "3d3bdc6e"
      },
      "outputs": [],
      "source": [
        "lda = LDA(n_components=1)\n",
        "X_lda = lda.fit_transform(X, y)\n",
        "Xe_lda = lda.transform(Xe)"
      ]
    },
    {
      "cell_type": "code",
      "execution_count": null,
      "id": "da218d7e",
      "metadata": {
        "execution": {
          "iopub.execute_input": "2023-06-10T19:10:40.108708Z",
          "iopub.status.busy": "2023-06-10T19:10:40.108199Z",
          "iopub.status.idle": "2023-06-10T19:10:40.112970Z",
          "shell.execute_reply": "2023-06-10T19:10:40.111953Z"
        },
        "papermill": {
          "duration": 0.034056,
          "end_time": "2023-06-10T19:10:40.117985",
          "exception": false,
          "start_time": "2023-06-10T19:10:40.083929",
          "status": "completed"
        },
        "tags": [],
        "id": "da218d7e"
      },
      "outputs": [],
      "source": [
        "#tsne = TSNE(n_components=3)\n",
        "#X_tsne = tsne.fit_transform(X)\n",
        "#Xe_tsne = tsne.fit_transform(Xe)"
      ]
    },
    {
      "cell_type": "code",
      "execution_count": null,
      "id": "fde6a20c",
      "metadata": {
        "execution": {
          "iopub.execute_input": "2023-06-10T19:10:40.178284Z",
          "iopub.status.busy": "2023-06-10T19:10:40.177750Z",
          "iopub.status.idle": "2023-06-10T19:10:40.204321Z",
          "shell.execute_reply": "2023-06-10T19:10:40.203713Z"
        },
        "papermill": {
          "duration": 0.06366,
          "end_time": "2023-06-10T19:10:40.206426",
          "exception": false,
          "start_time": "2023-06-10T19:10:40.142766",
          "status": "completed"
        },
        "tags": [],
        "id": "fde6a20c"
      },
      "outputs": [],
      "source": [
        "agglo = FeatureAgglomeration(n_clusters=10)\n",
        "X_agglo = agglo.fit_transform(X)\n",
        "Xe_agglo = agglo.transform(Xe)"
      ]
    },
    {
      "cell_type": "code",
      "execution_count": null,
      "id": "bf8aaf37",
      "metadata": {
        "execution": {
          "iopub.execute_input": "2023-06-10T19:10:40.231658Z",
          "iopub.status.busy": "2023-06-10T19:10:40.230904Z",
          "iopub.status.idle": "2023-06-10T19:10:40.269663Z",
          "shell.execute_reply": "2023-06-10T19:10:40.268310Z"
        },
        "papermill": {
          "duration": 0.053977,
          "end_time": "2023-06-10T19:10:40.272474",
          "exception": false,
          "start_time": "2023-06-10T19:10:40.218497",
          "status": "completed"
        },
        "tags": [],
        "id": "bf8aaf37"
      },
      "outputs": [],
      "source": [
        "transformer = FastICA(n_components=10, random_state=0)\n",
        "X_fast = transformer.fit_transform(X)\n",
        "Xe_fast = transformer.transform(Xe)"
      ]
    },
    {
      "cell_type": "code",
      "execution_count": null,
      "id": "4bf34b8f",
      "metadata": {
        "execution": {
          "iopub.execute_input": "2023-06-10T19:10:40.324188Z",
          "iopub.status.busy": "2023-06-10T19:10:40.323653Z",
          "iopub.status.idle": "2023-06-10T19:10:40.412684Z",
          "shell.execute_reply": "2023-06-10T19:10:40.411448Z"
        },
        "papermill": {
          "duration": 0.118852,
          "end_time": "2023-06-10T19:10:40.416416",
          "exception": false,
          "start_time": "2023-06-10T19:10:40.297564",
          "status": "completed"
        },
        "tags": [],
        "id": "4bf34b8f"
      },
      "outputs": [],
      "source": [
        "move = min(X.min(), Xe.min())\n",
        "model = NMF(n_components=10, init='random', random_state=0)\n",
        "X_nmf = model.fit_transform(X - move)\n",
        "Xe_nmf = model.transform(Xe - move)"
      ]
    },
    {
      "cell_type": "code",
      "execution_count": null,
      "id": "0b717e12",
      "metadata": {
        "execution": {
          "iopub.execute_input": "2023-06-10T19:10:40.468096Z",
          "iopub.status.busy": "2023-06-10T19:10:40.467558Z",
          "iopub.status.idle": "2023-06-10T19:10:40.475020Z",
          "shell.execute_reply": "2023-06-10T19:10:40.474163Z"
        },
        "papermill": {
          "duration": 0.036654,
          "end_time": "2023-06-10T19:10:40.477949",
          "exception": false,
          "start_time": "2023-06-10T19:10:40.441295",
          "status": "completed"
        },
        "tags": [],
        "id": "0b717e12"
      },
      "outputs": [],
      "source": [
        "X_agglo.shape, X_nmf.shape"
      ]
    },
    {
      "cell_type": "code",
      "execution_count": null,
      "id": "2f18ac10",
      "metadata": {
        "execution": {
          "iopub.execute_input": "2023-06-10T19:10:40.529356Z",
          "iopub.status.busy": "2023-06-10T19:10:40.528805Z",
          "iopub.status.idle": "2023-06-10T19:10:40.536141Z",
          "shell.execute_reply": "2023-06-10T19:10:40.535323Z"
        },
        "papermill": {
          "duration": 0.036157,
          "end_time": "2023-06-10T19:10:40.538926",
          "exception": false,
          "start_time": "2023-06-10T19:10:40.502769",
          "status": "completed"
        },
        "tags": [],
        "id": "2f18ac10"
      },
      "outputs": [],
      "source": [
        "pca.explained_variance_.sum()"
      ]
    },
    {
      "cell_type": "code",
      "execution_count": null,
      "id": "c8848de6",
      "metadata": {
        "execution": {
          "iopub.execute_input": "2023-06-10T19:10:40.588364Z",
          "iopub.status.busy": "2023-06-10T19:10:40.588083Z",
          "iopub.status.idle": "2023-06-10T19:10:40.591646Z",
          "shell.execute_reply": "2023-06-10T19:10:40.590861Z"
        },
        "papermill": {
          "duration": 0.018728,
          "end_time": "2023-06-10T19:10:40.593395",
          "exception": false,
          "start_time": "2023-06-10T19:10:40.574667",
          "status": "completed"
        },
        "tags": [],
        "id": "c8848de6"
      },
      "outputs": [],
      "source": [
        "#HOW = 'lgb'\n",
        "#oof1, p1 = train_skl(X, ym, Xe, FOLDS, how=HOW)\n",
        "#oof1, p1 = train_skl(X_pca, y, Xe_pca, FOLDS, how=HOW)\n",
        "#oof1, p1 = train_skl(X_lda, y, Xe_lda, FOLDS, how=HOW)\n",
        "#oof1, p1 = train_skl(X_agglo, y, Xe_agglo, FOLDS, how=HOW)\n",
        "#oof1, p1 = train_skl(X_fast, y, Xe_fast, FOLDS, how=HOW)\n",
        "#oof1, p1 = train_skl(X_nmf, y, Xe_nmf, FOLDS, how=HOW)"
      ]
    },
    {
      "cell_type": "code",
      "execution_count": null,
      "id": "d95cc28b",
      "metadata": {
        "execution": {
          "iopub.execute_input": "2023-06-10T19:10:40.618728Z",
          "iopub.status.busy": "2023-06-10T19:10:40.618174Z",
          "iopub.status.idle": "2023-06-10T19:10:40.653797Z",
          "shell.execute_reply": "2023-06-10T19:10:40.652955Z"
        },
        "papermill": {
          "duration": 0.05033,
          "end_time": "2023-06-10T19:10:40.655834",
          "exception": false,
          "start_time": "2023-06-10T19:10:40.605504",
          "status": "completed"
        },
        "tags": [],
        "id": "d95cc28b"
      },
      "outputs": [],
      "source": [
        "#skf = StratifiedKFold(n_splits=NFOLDS)\n",
        "#FOLDS = list(skf.split(X, y))\n",
        "\n",
        "skf = MultilabelStratifiedKFold(n_splits=NFOLDS, shuffle=True, random_state=42)\n",
        "FOLDS = list(skf.split(X, Z))"
      ]
    },
    {
      "cell_type": "code",
      "execution_count": null,
      "id": "03f4e109",
      "metadata": {
        "execution": {
          "iopub.execute_input": "2023-06-10T19:10:40.682897Z",
          "iopub.status.busy": "2023-06-10T19:10:40.682617Z",
          "iopub.status.idle": "2023-06-10T19:11:45.118977Z",
          "shell.execute_reply": "2023-06-10T19:11:45.117932Z"
        },
        "papermill": {
          "duration": 64.452279,
          "end_time": "2023-06-10T19:11:45.121281",
          "exception": false,
          "start_time": "2023-06-10T19:10:40.669002",
          "status": "completed"
        },
        "tags": [],
        "id": "03f4e109"
      },
      "outputs": [],
      "source": [
        "oof1, p1 = train_skl(X, ym, Xe, FOLDS, how='lgb')\n",
        "oof2, p2 = train_skl(X, ym, Xe, FOLDS, how='xgb')\n",
        "oof3, p3 = train_skl(X, ym, Xe, FOLDS, how='tabfpn')"
      ]
    },
    {
      "cell_type": "code",
      "execution_count": null,
      "id": "cc7ddf78",
      "metadata": {
        "execution": {
          "iopub.execute_input": "2023-06-10T19:11:45.159442Z",
          "iopub.status.busy": "2023-06-10T19:11:45.159096Z",
          "iopub.status.idle": "2023-06-10T19:11:45.167320Z",
          "shell.execute_reply": "2023-06-10T19:11:45.166231Z"
        },
        "papermill": {
          "duration": 0.029388,
          "end_time": "2023-06-10T19:11:45.169373",
          "exception": false,
          "start_time": "2023-06-10T19:11:45.139985",
          "status": "completed"
        },
        "tags": [],
        "id": "cc7ddf78"
      },
      "outputs": [],
      "source": [
        "print('LGB', competition_log_loss(y, oof1))\n",
        "print('XGB', competition_log_loss(y, oof2))\n",
        "print('TabFPN', competition_log_loss(y, oof3))\n",
        "print('Blend', competition_log_loss(y, 0.6*oof2 + 0.4*oof3))"
      ]
    },
    {
      "cell_type": "code",
      "execution_count": null,
      "id": "a49e8642",
      "metadata": {
        "execution": {
          "iopub.execute_input": "2023-06-10T19:11:45.207039Z",
          "iopub.status.busy": "2023-06-10T19:11:45.206697Z",
          "iopub.status.idle": "2023-06-10T19:11:45.214402Z",
          "shell.execute_reply": "2023-06-10T19:11:45.213427Z"
        },
        "papermill": {
          "duration": 0.029203,
          "end_time": "2023-06-10T19:11:45.216638",
          "exception": false,
          "start_time": "2023-06-10T19:11:45.187435",
          "status": "completed"
        },
        "tags": [],
        "id": "a49e8642"
      },
      "outputs": [],
      "source": [
        "oof1.max(), oof1.min(), p1.max(), p1.min()"
      ]
    },
    {
      "cell_type": "code",
      "execution_count": null,
      "id": "e9a6c566",
      "metadata": {
        "execution": {
          "iopub.execute_input": "2023-06-10T19:11:45.327011Z",
          "iopub.status.busy": "2023-06-10T19:11:45.326098Z",
          "iopub.status.idle": "2023-06-10T19:11:45.343111Z",
          "shell.execute_reply": "2023-06-10T19:11:45.341993Z"
        },
        "papermill": {
          "duration": 0.038723,
          "end_time": "2023-06-10T19:11:45.345490",
          "exception": false,
          "start_time": "2023-06-10T19:11:45.306767",
          "status": "completed"
        },
        "tags": [],
        "id": "e9a6c566"
      },
      "outputs": [],
      "source": [
        "sub = te[['Id']].copy()\n",
        "p = 0.5 * p2 + 0.5 * p3\n",
        "sub['class_0'] = 1. - p\n",
        "sub['class_1'] = p\n",
        "#===========\n",
        "#===========\n",
        "sub.to_csv('submission.csv', index=False)\n",
        "sub.head()"
      ]
    }
  ],
  "metadata": {
    "kernelspec": {
      "display_name": "Python 3",
      "name": "python3"
    },
    "language_info": {
      "codemirror_mode": {
        "name": "ipython",
        "version": 3
      },
      "file_extension": ".py",
      "mimetype": "text/x-python",
      "name": "python",
      "nbconvert_exporter": "python",
      "pygments_lexer": "ipython3",
      "version": "3.10.10"
    },
    "papermill": {
      "default_parameters": {},
      "duration": 101.767805,
      "end_time": "2023-06-10T19:11:48.457091",
      "environment_variables": {},
      "exception": null,
      "input_path": "__notebook__.ipynb",
      "output_path": "__notebook__.ipynb",
      "parameters": {},
      "start_time": "2023-06-10T19:10:06.689286",
      "version": "2.4.0"
    },
    "colab": {
      "private_outputs": true,
      "provenance": [],
      "gpuType": "T4",
      "include_colab_link": true
    },
    "accelerator": "GPU"
  },
  "nbformat": 4,
  "nbformat_minor": 5
}